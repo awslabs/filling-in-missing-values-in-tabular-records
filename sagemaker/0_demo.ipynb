{
 "cells": [
  {
   "cell_type": "markdown",
   "metadata": {},
   "source": [
    "# Filling in Missing Values in Tabular Records - Demo\n",
    "\n",
    "In this notebook you can get a quick preview of what the outcome when you complete the full notebook for this solution.\n",
    "\n",
    "We have some sample Fleet Inventory data with a target column containing some missing entries. \n",
    "\n",
    "We've trained a model to predict missing entries based on the other entries and we will call this model.\n",
    "\n",
    "You can select Run->Run All Cells from the menu to run all cells in Studio (or Cell->Run All in a SageMaker Notebook Instance)."
   ]
  },
  {
   "cell_type": "code",
   "execution_count": null,
   "metadata": {},
   "outputs": [],
   "source": [
    "import boto3\n",
    "import botocore\n",
    "import json\n",
    "import pandas as pd\n",
    "import numpy as np\n",
    "import matplotlib.pyplot as plt\n",
    "import json\n",
    "\n",
    "with open('stack_outputs.json') as f:\n",
    "    sagemaker_configs = json.load(f)"
   ]
  },
  {
   "cell_type": "markdown",
   "metadata": {},
   "source": [
    "## Load the Test Data"
   ]
  },
  {
   "cell_type": "code",
   "execution_count": null,
   "metadata": {},
   "outputs": [],
   "source": [
    "demo_file = 'data/demo.csv'\n",
    "target = 'ASSET_TYPE'\n",
    "demo_data = pd.read_csv(demo_file)\n",
    "demo_data"
   ]
  },
  {
   "cell_type": "code",
   "execution_count": null,
   "metadata": {},
   "outputs": [],
   "source": [
    "demo_input = demo_data.drop(columns=[target])\n",
    "demo_labels = demo_data[target]\n",
    "\n",
    "demo_input_csv = demo_input.to_csv(index=False, header=False).split('\\n')"
   ]
  },
  {
   "cell_type": "markdown",
   "metadata": {},
   "source": [
    "## Make Predictions with Demo Endpoint"
   ]
  },
  {
   "cell_type": "code",
   "execution_count": null,
   "metadata": {},
   "outputs": [],
   "source": [
    "config = botocore.config.Config(read_timeout=200)\n",
    "runtime = boto3.client('runtime.sagemaker', config=config)\n",
    "\n",
    "endpoint_name = sagemaker_configs['SageMakerDemoEndpointName']\n",
    "\n",
    "for i, (single_test, single_label) in enumerate(zip(demo_input_csv, demo_labels)):\n",
    "    print('=== Test {} ===\\nInput: {}\\n'.format(i, single_test))    \n",
    "    response = runtime_client.invoke_endpoint(EndpointName = endpoint_name,\n",
    "                                        ContentType = 'text/csv',\n",
    "                                        Body = single_test)\n",
    "    result = response['Body'].read().decode('ascii')\n",
    "    print('Predicted label is {}\\nCorrect label is {}\\n'.format(result.rstrip(), single_label.rstrip()))    "
   ]
  },
  {
   "cell_type": "markdown",
   "metadata": {},
   "source": [
    "## Next Stage\n",
    "We'll run through the solution. [Click here to continue.](./1_fill_missing_values.ipynb)."
   ]
  }
 ],
 "metadata": {
  "kernelspec": {
   "display_name": "conda_python3",
   "language": "python",
   "name": "conda_python3"
  },
  "language_info": {
   "codemirror_mode": {
    "name": "ipython",
    "version": 3
   },
   "file_extension": ".py",
   "mimetype": "text/x-python",
   "name": "python",
   "nbconvert_exporter": "python",
   "pygments_lexer": "ipython3",
   "version": "3.6.10"
  }
 },
 "nbformat": 4,
 "nbformat_minor": 4
}
